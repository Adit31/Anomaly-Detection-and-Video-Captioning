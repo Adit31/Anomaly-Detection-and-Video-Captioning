{
 "cells": [
  {
   "cell_type": "code",
   "execution_count": null,
   "metadata": {},
   "outputs": [],
   "source": [
    "!pip install tensornets\n",
    "!pip uninstall numpy -y\n",
    "!pip install numpy==1.20.0"
   ]
  },
  {
   "cell_type": "code",
   "execution_count": null,
   "metadata": {},
   "outputs": [],
   "source": [
    "#For debugging\n",
    "#import torch\n",
    "#print(torch.cuda.current_device())"
   ]
  },
  {
   "cell_type": "code",
   "execution_count": null,
   "metadata": {},
   "outputs": [],
   "source": [
    "#For debugging\n",
    "#!nvidia-smi"
   ]
  },
  {
   "cell_type": "code",
   "execution_count": 4,
   "metadata": {},
   "outputs": [
    {
     "name": "stdout",
     "output_type": "stream",
     "text": [
      "/home/users/multicog/Adit\r\n"
     ]
    }
   ],
   "source": [
    "!pwd"
   ]
  },
  {
   "cell_type": "code",
   "execution_count": 5,
   "metadata": {},
   "outputs": [
    {
     "name": "stdout",
     "output_type": "stream",
     "text": [
      "/storage/users/multicog/Adit/Semantics-AssistedVideoCaptioning-master\n"
     ]
    }
   ],
   "source": [
    "cd Semantics-AssistedVideoCaptioning-master/scripts/MSR-VTT"
   ]
  },
  {
   "cell_type": "code",
   "execution_count": 34,
   "metadata": {},
   "outputs": [
    {
     "name": "stdout",
     "output_type": "stream",
     "text": [
      "2021-05-02 12:36:33.139891: I tensorflow/stream_executor/platform/default/dso_loader.cc:44] Successfully opened dynamic library libcudart.so.10.2\n",
      "Arrest001_x264 has been extracted to /home/users/multicog/Adit/AnomalyFrames/Arrest001_x264\n"
     ]
    }
   ],
   "source": [
    "!CUDA_VISIBLE_DEVICES=0 python prepare_frames.py --videopath /home/users/multicog/Adit/AnomalyVideos --outputpath /home/users/multicog/Adit/AnomalyFrames"
   ]
  },
  {
   "cell_type": "code",
   "execution_count": 37,
   "metadata": {},
   "outputs": [
    {
     "name": "stdout",
     "output_type": "stream",
     "text": [
      "2021-05-02 12:42:57.767799: I tensorflow/stream_executor/platform/default/dso_loader.cc:44] Successfully opened dynamic library libcudart.so.10.2\n",
      "WARNING:tensorflow:From /home/users/multicog/.conda/envs/tf-gpu/lib/python3.7/site-packages/tensornets/contrib_layers/layers.py:1057: Layer.apply (from tensorflow.python.keras.engine.base_layer_v1) is deprecated and will be removed in a future version.\n",
      "Instructions for updating:\n",
      "Please use `layer.__call__` method instead.\n",
      "WARNING:tensorflow:From /home/users/multicog/.conda/envs/tf-gpu/lib/python3.7/site-packages/tensorflow/python/ops/resource_variable_ops.py:1666: calling BaseResourceVariable.__init__ (from tensorflow.python.ops.resource_variable_ops) with constraint is deprecated and will be removed in a future version.\n",
      "Instructions for updating:\n",
      "If using Keras pass *_constraint arguments to layers.\n",
      "2021-05-02 12:43:14.507267: I tensorflow/core/platform/profile_utils/cpu_utils.cc:102] CPU Frequency: 3783000000 Hz\n",
      "2021-05-02 12:43:14.514441: I tensorflow/compiler/xla/service/service.cc:168] XLA service 0x12e354640 initialized for platform Host (this does not guarantee that XLA will be used). Devices:\n",
      "2021-05-02 12:43:14.514481: I tensorflow/compiler/xla/service/service.cc:176]   StreamExecutor device (0): Host, Default Version\n",
      "2021-05-02 12:43:14.518656: I tensorflow/stream_executor/platform/default/dso_loader.cc:44] Successfully opened dynamic library libcuda.so.1\n",
      "2021-05-02 12:43:14.669090: I tensorflow/compiler/xla/service/service.cc:168] XLA service 0x12e3f24d0 initialized for platform CUDA (this does not guarantee that XLA will be used). Devices:\n",
      "2021-05-02 12:43:14.669138: I tensorflow/compiler/xla/service/service.cc:176]   StreamExecutor device (0): Tesla V100-SXM2-32GB, Compute Capability 7.0\n",
      "2021-05-02 12:43:14.671276: I tensorflow/core/common_runtime/gpu/gpu_device.cc:1564] Found device 0 with properties: \n",
      "pciBusID: 0004:04:00.0 name: Tesla V100-SXM2-32GB computeCapability: 7.0\n",
      "coreClock: 1.53GHz coreCount: 80 deviceMemorySize: 31.50GiB deviceMemoryBandwidth: 836.37GiB/s\n",
      "2021-05-02 12:43:14.671369: I tensorflow/stream_executor/platform/default/dso_loader.cc:44] Successfully opened dynamic library libcudart.so.10.2\n",
      "2021-05-02 12:43:14.673578: I tensorflow/stream_executor/platform/default/dso_loader.cc:44] Successfully opened dynamic library libcublas.so.10\n",
      "2021-05-02 12:43:14.675362: I tensorflow/stream_executor/platform/default/dso_loader.cc:44] Successfully opened dynamic library libcufft.so.10\n",
      "2021-05-02 12:43:14.675999: I tensorflow/stream_executor/platform/default/dso_loader.cc:44] Successfully opened dynamic library libcurand.so.10\n",
      "2021-05-02 12:43:14.677679: I tensorflow/stream_executor/platform/default/dso_loader.cc:44] Successfully opened dynamic library libcusolver.so.10\n",
      "2021-05-02 12:43:14.679019: I tensorflow/stream_executor/platform/default/dso_loader.cc:44] Successfully opened dynamic library libcusparse.so.10\n",
      "2021-05-02 12:43:14.682511: I tensorflow/stream_executor/platform/default/dso_loader.cc:44] Successfully opened dynamic library libcudnn.so.7\n",
      "2021-05-02 12:43:14.686535: I tensorflow/core/common_runtime/gpu/gpu_device.cc:1706] Adding visible gpu devices: 0\n",
      "2021-05-02 12:43:14.686602: I tensorflow/stream_executor/platform/default/dso_loader.cc:44] Successfully opened dynamic library libcudart.so.10.2\n",
      "2021-05-02 12:43:15.047390: I tensorflow/core/common_runtime/gpu/gpu_device.cc:1105] Device interconnect StreamExecutor with strength 1 edge matrix:\n",
      "2021-05-02 12:43:15.047706: I tensorflow/core/common_runtime/gpu/gpu_device.cc:1111]      0 \n",
      "2021-05-02 12:43:15.047718: I tensorflow/core/common_runtime/gpu/gpu_device.cc:1124] 0:   N \n",
      "2021-05-02 12:43:15.052512: I tensorflow/core/common_runtime/gpu/gpu_device.cc:1250] Created TensorFlow device (/job:localhost/replica:0/task:0/device:GPU:0 with 27793 MB memory) -> physical GPU (device: 0, name: Tesla V100-SXM2-32GB, pci bus id: 0004:04:00.0, compute capability: 7.0)\n",
      "0 /home/users/multicog/Adit/AnomalyFrames/Arrest001_x264 635 615\n",
      "2021-05-02 12:43:52.679619: I tensorflow/stream_executor/platform/default/dso_loader.cc:44] Successfully opened dynamic library libcudnn.so.7\n",
      "2021-05-02 12:43:56.337474: I tensorflow/stream_executor/platform/default/dso_loader.cc:44] Successfully opened dynamic library libcublas.so.10\n",
      "0 video has been processed.\n"
     ]
    }
   ],
   "source": [
    "!CUDA_VISIBLE_DEVICES=0 python generate_res_feature.py"
   ]
  },
  {
   "cell_type": "code",
   "execution_count": null,
   "metadata": {},
   "outputs": [],
   "source": []
  }
 ],
 "metadata": {
  "kernelspec": {
   "display_name": "tf-gpu",
   "language": "python",
   "name": "tf-gpu"
  },
  "language_info": {
   "codemirror_mode": {
    "name": "ipython",
    "version": 3
   },
   "file_extension": ".py",
   "mimetype": "text/x-python",
   "name": "python",
   "nbconvert_exporter": "python",
   "pygments_lexer": "ipython3",
   "version": "3.7.7"
  }
 },
 "nbformat": 4,
 "nbformat_minor": 4
}
